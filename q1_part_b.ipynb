{
 "cells": [
  {
   "cell_type": "code",
   "execution_count": 4,
   "metadata": {},
   "outputs": [],
   "source": [
    "import math\n",
    "import numpy as np"
   ]
  },
  {
   "cell_type": "code",
   "execution_count": 5,
   "metadata": {},
   "outputs": [
    {
     "name": "stdout",
     "output_type": "stream",
     "text": [
      "Volume of the protein: 20823.585000000003 A^3 (cubic angstrom)\n"
     ]
    }
   ],
   "source": [
    "#part b\n",
    "file = open(\"1a6g.pdb\", \"r\")\n",
    "lines = file.readlines()\n",
    "coord = list()\n",
    "vdwradii = list()\n",
    "num_atoms = 0\n",
    "delta = 0.1\n",
    "x_max = -4.040\n",
    "x_min = -4.040\n",
    "y_max = 15.048\n",
    "y_min = 15.048\n",
    "z_max = 13.602\n",
    "z_min = 13.602\n",
    "for line in lines:\n",
    "    try:\n",
    "        vdwr = 0\n",
    "        line = line.split()\n",
    "        if (line[0] == 'ATOM'):\n",
    "            num_atoms+=1\n",
    "            x = float(line[-6]) / delta\n",
    "            y = float(line[-5]) / delta\n",
    "            z = float(line[-4]) / delta\n",
    "            coord.append([x, y, z])\n",
    "            if line[2][0] == 'C':\n",
    "                vdwr += 1.7\n",
    "            elif line[2][0] == 'O':\n",
    "                vdwr += 1.52\n",
    "            elif line[2][0] == 'N':\n",
    "                vdwr += 1.55\n",
    "            elif line[2][0] == 'S':\n",
    "                vdwr += 1.8\n",
    "            vdwradii.append(vdwr / delta)\n",
    "            if (x_max < coord[-1][0]):\n",
    "                x_max = coord[-1][0]\n",
    "            if (x_min > coord[-1][0]):\n",
    "                x_min = coord[-1][0]\n",
    "            if (y_max < coord[-1][1]):\n",
    "                y_max = coord[-1][1]\n",
    "            if (y_min > coord[-1][1]):\n",
    "                y_min = coord[-1][1]\n",
    "            if (z_max < coord[-1][2]):\n",
    "                z_max = coord[-1][2]\n",
    "            if (z_min > coord[-1][2]):\n",
    "                z_min = coord[-1][2]\n",
    "    except:\n",
    "        pass\n",
    "r_max = max(vdwradii)\n",
    "border_width = r_max + 1.0\n",
    "N_box_0 = int(x_max - x_min + 2. *border_width) + 1\n",
    "N_box_1 = int(y_max - y_min + 2. *border_width) + 1\n",
    "N_box_2 = int(z_max - z_min + 2. *border_width) + 1\n",
    "N_box_tot = N_box_0 * N_box_1 * N_box_2\n",
    "for i in range(len(coord)):\n",
    "    coord[i][0] -= x_min - border_width\n",
    "    coord[i][1] -= y_min - border_width\n",
    "    coord[i][2] -= z_min - border_width\n",
    "I_close = np.zeros((N_box_0, N_box_1, N_box_2))\n",
    "for i in range(num_atoms):\n",
    "    # periodic boundary conditions\n",
    "    i_max = math.ceil(coord[i][0] + vdwradii[i])\n",
    "    if (i_max >= N_box_0):\n",
    "        i_max = N_box_0 - 1\n",
    "    i_min = math.floor(coord[i][0] - vdwradii[i])\n",
    "    if (i_min < 0):\n",
    "        i_min = 0\n",
    "    \n",
    "    j_max = math.ceil(coord[i][1] + vdwradii[i])\n",
    "    if (j_max >= N_box_1):\n",
    "        j_max = N_box_1 - 1\n",
    "    j_min = math.floor(coord[i][1] - vdwradii[i])\n",
    "    if (j_min < 0):\n",
    "        j_min = 0\n",
    "    \n",
    "    k_max = math.ceil(coord[i][2] + vdwradii[i])\n",
    "    if (k_max >= N_box_2):\n",
    "        k_max = N_box_2 - 1\n",
    "    k_min = math.floor(coord[i][2] - vdwradii[i])\n",
    "    if (k_min < 0):\n",
    "        k_min = 0\n",
    "    \n",
    "    ind0 = i_min * N_box_1\n",
    "    ii = i_min\n",
    "    for i in range(i_min, i_max):\n",
    "        for j in range(j_min, j_max):\n",
    "            for k in range(k_min, k_max):\n",
    "                I_close[i][j][k] = 1\n",
    "N_vol = np.sum(I_close)\n",
    "Vol = N_vol * delta * delta * delta\n",
    "print(\"Volume of the protein: \" + str(Vol) + \" A^3 (cubic angstrom)\")"
   ]
  },
  {
   "cell_type": "code",
   "execution_count": null,
   "metadata": {},
   "outputs": [],
   "source": []
  }
 ],
 "metadata": {
  "kernelspec": {
   "display_name": "Python 3",
   "language": "python",
   "name": "python3"
  },
  "language_info": {
   "codemirror_mode": {
    "name": "ipython",
    "version": 3
   },
   "file_extension": ".py",
   "mimetype": "text/x-python",
   "name": "python",
   "nbconvert_exporter": "python",
   "pygments_lexer": "ipython3",
   "version": "3.8.10"
  }
 },
 "nbformat": 4,
 "nbformat_minor": 4
}
