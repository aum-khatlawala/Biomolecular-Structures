{
 "cells": [
  {
   "cell_type": "code",
   "execution_count": 1,
   "metadata": {},
   "outputs": [],
   "source": [
    "import numpy as np\n",
    "import matplotlib.pyplot as mp"
   ]
  },
  {
   "cell_type": "code",
   "execution_count": 2,
   "metadata": {},
   "outputs": [],
   "source": [
    "N = []\n",
    "CA = []\n",
    "C = []\n",
    "\n",
    "with open(\"1a6g.pdb\", \"r\") as f:\n",
    "    lines = f.readlines()\n",
    "    for line in lines:\n",
    "        k = line.split()\n",
    "        if k[0] == 'ATOM':\n",
    "            if k[3] == 'BASP' or k[3] =='BARG' or k[3] == 'BPHE':\n",
    "                continue # we can understand this by manually looking at the \"1a6g.pdb\" file\n",
    "            if k[2] == 'N':\n",
    "                N.append([float(k[6]), float(k[7]), float(k[8])])\n",
    "            elif k[2] == 'CA':\n",
    "                CA.append([float(k[6]), float(k[7]), float(k[8])])\n",
    "            elif k[2] == 'C':\n",
    "                C.append([float(k[6]), float(k[7]), float(k[8])])"
   ]
  },
  {
   "cell_type": "code",
   "execution_count": 3,
   "metadata": {},
   "outputs": [],
   "source": [
    "# for psi vals (N-CA-C-N)\n",
    "psi_vals = []\n",
    "psi_iters = len(N) - 1 # to prevent edge case\n",
    "for i in range(psi_iters):\n",
    "    vec1 = np.array([N[i][j] - CA[i][j] for j in range(3)])\n",
    "    vec2 = np.array([CA[i][j] - C[i][j] for j in range(3)])\n",
    "    vec3 = np.array([C[i][j] - N[i+1][j] for j in range(3)])\n",
    "    crossproduct1 = np.cross(vec1, vec2)\n",
    "    norm1 = crossproduct1/np.linalg.norm(crossproduct1)\n",
    "    \n",
    "    crossproduct2 = np.cross(vec2, vec3)\n",
    "    norm2 = crossproduct2/np.linalg.norm(crossproduct2)\n",
    "    \n",
    "    dotproduct = np.dot(norm1, norm2)\n",
    "    crossproduct = np.cross(norm1, norm2)\n",
    "    sinofboth = np.dot(vec2, crossproduct)\n",
    "    norm3 = sinofboth/np.linalg.norm(vec2)\n",
    "    psi_vals.append((-1) * np.arctan2(norm3, dotproduct)*180/np.pi)\n",
    "psi_vals.append(360.0)\n",
    "# print(psi_vals)"
   ]
  },
  {
   "cell_type": "code",
   "execution_count": 4,
   "metadata": {},
   "outputs": [],
   "source": [
    "# for phi_vals (C-N-CA-C)\n",
    "phi_vals = []\n",
    "phi_iters = len(C) - 1 # to prevent edge case\n",
    "phi_vals.append(360.0)\n",
    "for i in range(phi_iters):\n",
    "    vec1 = np.array([C[i][j] - N[i+1][j] for j in range(3)])\n",
    "    vec2 = np.array([N[i+1][j] - CA[i+1][j] for j in range(3)])\n",
    "    vec3 = np.array([CA[i+1][j] - C[i+1][j] for j in range(3)])\n",
    "    crossproduct1 = np.cross(vec1, vec2)\n",
    "    norm1 = crossproduct1/np.linalg.norm(crossproduct1)\n",
    "    crossproduct2 = np.cross(vec2, vec3)\n",
    "    norm2 = crossproduct2/np.linalg.norm(crossproduct2)\n",
    "    dotproduct = np.dot(norm1, norm2)\n",
    "    crossproduct = np.cross(norm1, norm2)\n",
    "    sinofboth = np.dot(vec2, crossproduct)\n",
    "    norm3 = sinofboth/np.linalg.norm(vec2)\n",
    "    phi_vals.append((-1) * np.arctan2(norm3, dotproduct)*180/np.pi)\n",
    "# print(phi_vals)"
   ]
  },
  {
   "cell_type": "markdown",
   "metadata": {},
   "source": [
    "## Q2 answer:"
   ]
  },
  {
   "cell_type": "code",
   "execution_count": 5,
   "metadata": {},
   "outputs": [
    {
     "name": "stdout",
     "output_type": "stream",
     "text": [
      "Right handed alpha helix 1: from residue 4 to residue 17\n",
      "Right handed alpha helix 2: from residue 21 to residue 35\n",
      "Right handed alpha helix 3: from residue 37 to residue 40\n",
      "Right handed alpha helix 4: from residue 52 to residue 56\n",
      "Right handed alpha helix 5: from residue 59 to residue 76\n",
      "Right handed alpha helix 6: from residue 83 to residue 94\n",
      "Right handed alpha helix 7: from residue 101 to residue 117\n",
      "Right handed alpha helix 8: from residue 125 to residue 148\n"
     ]
    }
   ],
   "source": [
    "secondary_structure = {}\n",
    "ss_rh = []\n",
    "ss_rh_temp = []\n",
    "ss_lh = []\n",
    "ss_lh_temp = []\n",
    "ss_ab = []\n",
    "ss_ab_temp = []\n",
    "ss_pb = []\n",
    "ss_pb_temp = []\n",
    "# For right handed alpha helices:\n",
    "for i in range(151):\n",
    "    if (-82 < phi_vals[i] < -32 and -72 < psi_vals[i] < -22):\n",
    "        ss_rh_temp.append(i)\n",
    "    elif len(ss_rh_temp) > 3:\n",
    "        ss_rh.append(ss_rh_temp)\n",
    "        ss_rh_temp = []\n",
    "    else:\n",
    "        ss_rh_temp = []\n",
    "        \n",
    "# For left handed alpha helices:   \n",
    "for i in range(151):\n",
    "    if (32 < phi_vals[i] < 82 and 22 < psi_vals[i] < 72):\n",
    "        ss_lh_temp.append(i)\n",
    "    elif len(ss_lh_temp) > 3:\n",
    "        ss_lh.append(ss_lh_temp)\n",
    "        ss_lh_temp = []\n",
    "    else:\n",
    "        ss_lh_temp = []\n",
    "\n",
    "# For anti parallel beta sheets:\n",
    "for i in range(151):\n",
    "    if (-164 < phi_vals[i] < -114 and 110 < psi_vals[i] < 160):\n",
    "        ss_ab_temp.append(i)\n",
    "    elif len(ss_ab_temp) > 3:\n",
    "        ss_ab.append(ss_ab_temp)\n",
    "        ss_ab_temp = []\n",
    "    else:\n",
    "        ss_ab_temp = []\n",
    "\n",
    "# For parallel beta sheets:\n",
    "for i in range(151):\n",
    "    if (-144 < phi_vals[i] < -94 and 88 < psi_vals[i] < 138):\n",
    "        ss_pb_temp.append(i)\n",
    "    elif len(ss_pb_temp) > 3:\n",
    "        ss_pb.append(ss_pb_temp)\n",
    "        ss_pb_temp = []\n",
    "    else:\n",
    "        ss_pb_temp = []\n",
    "    \n",
    "secondary_structure[\"R-alpha-helix\"] = ss_rh\n",
    "secondary_structure[\"L-alpha-helix\"] = ss_lh\n",
    "secondary_structure[\"Antiparallel-beta-sheet\"] = ss_ab\n",
    "secondary_structure[\"Parallel-beta-sheet\"] = ss_pb\n",
    "# print(secondary_structure[\"RH\"][0][-1])\n",
    "for i in range(len(secondary_structure[\"R-alpha-helix\"])):\n",
    "    # we add 1 to residue number as it is 1 based indexing\n",
    "    print(\"Right handed alpha helix \" + str(i+1) + \": from residue \" + str(secondary_structure[\"R-alpha-helix\"][i][0] + 1) + \" to residue \" + str(secondary_structure[\"R-alpha-helix\"][i][-1] + 1))"
   ]
  },
  {
   "cell_type": "markdown",
   "metadata": {},
   "source": [
    "## Q3 answer:"
   ]
  },
  {
   "cell_type": "code",
   "execution_count": 6,
   "metadata": {},
   "outputs": [],
   "source": [
    "u = []\n",
    "for i in range(len(secondary_structure[\"R-alpha-helix\"])):\n",
    "    u_is = []\n",
    "    for j in range(len(secondary_structure[\"R-alpha-helix\"][i])):\n",
    "        if (j == 0 or j == len(secondary_structure[\"R-alpha-helix\"][i]) - 1):\n",
    "            continue\n",
    "        else:\n",
    "            r_iminus1 = CA[secondary_structure[\"R-alpha-helix\"][i][j-1]]\n",
    "            r_i = CA[secondary_structure[\"R-alpha-helix\"][i][j]]\n",
    "            r_iplus1 = CA[secondary_structure[\"R-alpha-helix\"][i][j+1]]\n",
    "            first_term = np.array(r_i) - np.array(r_iminus1)\n",
    "            second_term = np.array(r_iplus1) - np.array(r_i)\n",
    "            crossproduct = np.cross(first_term, second_term)\n",
    "            norm = crossproduct/np.linalg.norm(crossproduct)\n",
    "            u_is.append(norm)\n",
    "    u.append(u_is)"
   ]
  },
  {
   "cell_type": "code",
   "execution_count": 7,
   "metadata": {},
   "outputs": [
    {
     "name": "stdout",
     "output_type": "stream",
     "text": [
      "H_2 values from helix 1 to 8 in a list:\n",
      "[0.6226557494083846, 0.6666670255289425, 0.48249871808336825, 0.6487358479711358, 0.6392807322867116, 0.648204736980621, 0.6254530079714851, 0.6447985864327337]\n"
     ]
    }
   ],
   "source": [
    "H_2 = []\n",
    "for i in range(len(secondary_structure[\"R-alpha-helix\"])):\n",
    "    N = len(secondary_structure[\"R-alpha-helix\"][i]) - 3\n",
    "    summation = 0\n",
    "    for j in range(len(secondary_structure[\"R-alpha-helix\"][i])):\n",
    "        if (j == 0 or j == len(secondary_structure[\"R-alpha-helix\"][i]) - 1 or j == len(secondary_structure[\"R-alpha-helix\"][i]) - 2):\n",
    "            continue\n",
    "        else:\n",
    "            dotproduct = np.dot(u[i][j-1], u[i][j])\n",
    "            summation += dotproduct\n",
    "    ans = (1/N) * summation\n",
    "    H_2.append(ans)\n",
    "    \n",
    "print(\"H_2 values from helix 1 to 8 in a list:\")\n",
    "print(H_2)"
   ]
  },
  {
   "cell_type": "code",
   "execution_count": 8,
   "metadata": {},
   "outputs": [
    {
     "name": "stdout",
     "output_type": "stream",
     "text": [
      "H_3 values from helix 1 to 8 in a list:\n",
      "[0.6625140629313011, 0.689657942484938, 0.7412493590416841, 0.7658238986474238, 0.6938094317613511, 0.7514449151561016, 0.6912696917631239, 0.7060058308930434]\n"
     ]
    }
   ],
   "source": [
    "H_3 = []\n",
    "for i in range(len(secondary_structure[\"R-alpha-helix\"])):\n",
    "    N = len(secondary_structure[\"R-alpha-helix\"][i]) - 2\n",
    "    summation = 0\n",
    "    for j in range(len(secondary_structure[\"R-alpha-helix\"][i])):\n",
    "        if (j == 0 or j == len(secondary_structure[\"R-alpha-helix\"][i]) - 1):\n",
    "            continue\n",
    "        else:\n",
    "            midindex = np.floor(len(secondary_structure[\"R-alpha-helix\"][i]) / 2)\n",
    "#             print(int(midindex))\n",
    "            dotproduct = np.dot(u[i][j-1], u[i][int(midindex) - 1])\n",
    "            summation += dotproduct\n",
    "    ans = (1/N) * summation\n",
    "    H_3.append(ans)\n",
    "print(\"H_3 values from helix 1 to 8 in a list:\")  \n",
    "print(H_3)"
   ]
  },
  {
   "cell_type": "code",
   "execution_count": 9,
   "metadata": {},
   "outputs": [
    {
     "name": "stdout",
     "output_type": "stream",
     "text": [
      "H_4 values from helix 1 to 8 in a list:\n",
      "[0.6604200631220744, 0.7095793866628661, 0.7412493590416842, 0.7167259017921905, 0.687132093934439, 0.670115283952364, 0.6773680631056773, 0.6850390699343475]\n"
     ]
    }
   ],
   "source": [
    "H_4 = []\n",
    "for i in range(len(secondary_structure[\"R-alpha-helix\"])):\n",
    "    N = len(secondary_structure[\"R-alpha-helix\"][i]) - 2\n",
    "    summation = 0\n",
    "    for j in range(len(secondary_structure[\"R-alpha-helix\"][i])):\n",
    "        if (j == 0 or j == len(secondary_structure[\"R-alpha-helix\"][i]) - 1):\n",
    "            continue\n",
    "        else:\n",
    "            summation += u[i][j-1]\n",
    "    ans = (1/N) * summation\n",
    "    ans = np.dot(ans, ans)\n",
    "    H_4.append(ans)\n",
    "print(\"H_4 values from helix 1 to 8 in a list:\")\n",
    "print(H_4)"
   ]
  },
  {
   "cell_type": "code",
   "execution_count": null,
   "metadata": {},
   "outputs": [],
   "source": []
  }
 ],
 "metadata": {
  "kernelspec": {
   "display_name": "Python 3",
   "language": "python",
   "name": "python3"
  },
  "language_info": {
   "codemirror_mode": {
    "name": "ipython",
    "version": 3
   },
   "file_extension": ".py",
   "mimetype": "text/x-python",
   "name": "python",
   "nbconvert_exporter": "python",
   "pygments_lexer": "ipython3",
   "version": "3.8.10"
  }
 },
 "nbformat": 4,
 "nbformat_minor": 4
}
