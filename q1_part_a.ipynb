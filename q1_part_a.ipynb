{
 "cells": [
  {
   "cell_type": "code",
   "execution_count": 4,
   "metadata": {},
   "outputs": [],
   "source": [
    "import math\n",
    "import sys"
   ]
  },
  {
   "cell_type": "code",
   "execution_count": 5,
   "metadata": {},
   "outputs": [
    {
     "name": "stdout",
     "output_type": "stream",
     "text": [
      "15.26941\n"
     ]
    }
   ],
   "source": [
    "#part a\n",
    "file = open(\"1a6g.pdb\", \"r\")\n",
    "lines = file.readlines()\n",
    "coord = list()\n",
    "mass = list()\n",
    "for line in lines:\n",
    "    try:\n",
    "        line = line.split()\n",
    "        if (line[0] == 'ATOM'):\n",
    "            x = float(line[-6])\n",
    "            y = float(line[-5])\n",
    "            z = float(line[-4])\n",
    "            coord.append([x, y, z])\n",
    "            if line[2][0] == 'C':\n",
    "                mass.append(12.0107)\n",
    "            elif line[2][0] == 'O':\n",
    "                mass.append(15.9994)\n",
    "            elif line[2][0] == 'N':\n",
    "                mass.append(14.0067)\n",
    "            elif line[2][0] == 'S':\n",
    "                mass.append(32.065)\n",
    "    except:\n",
    "        pass\n",
    "coordmasstuple = zip(coord, mass)\n",
    "xm = [(m*i, m*j, m*k) for (i, j, k), m in coordmasstuple]\n",
    "coordxmtuple = zip(coord, xm)\n",
    "rr = sum(mi*i + mj*j + mk*k for (i, j, k), (mi, mj, mk) in coordxmtuple)\n",
    "mm = sum((sum(i) / sum(mass))**2 for i in zip(*xm))\n",
    "radgyr = math.sqrt(rr / sum(mass) - mm)\n",
    "print(round(radgyr, 5))"
   ]
  },
  {
   "cell_type": "code",
   "execution_count": null,
   "metadata": {},
   "outputs": [],
   "source": []
  }
 ],
 "metadata": {
  "kernelspec": {
   "display_name": "Python 3",
   "language": "python",
   "name": "python3"
  },
  "language_info": {
   "codemirror_mode": {
    "name": "ipython",
    "version": 3
   },
   "file_extension": ".py",
   "mimetype": "text/x-python",
   "name": "python",
   "nbconvert_exporter": "python",
   "pygments_lexer": "ipython3",
   "version": "3.8.10"
  }
 },
 "nbformat": 4,
 "nbformat_minor": 4
}
